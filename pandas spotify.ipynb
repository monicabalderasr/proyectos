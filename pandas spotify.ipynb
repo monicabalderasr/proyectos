{
 "cells": [
  {
   "cell_type": "markdown",
   "metadata": {},
   "source": [
    "## SPOTIFY"
   ]
  },
  {
   "cell_type": "code",
   "execution_count": 12,
   "metadata": {},
   "outputs": [
    {
     "name": "stdout",
     "output_type": "stream",
     "text": [
      "Primeras 10 filas del DataFrame 'canciones':\n",
      "                            track_name              artist(s)_name  \\\n",
      "0  Seven (feat. Latto) (Explicit Ver.)            Latto, Jung Kook   \n",
      "1                                 LALA                 Myke Towers   \n",
      "2                              vampire              Olivia Rodrigo   \n",
      "3                         Cruel Summer                Taylor Swift   \n",
      "4                       WHERE SHE GOES                   Bad Bunny   \n",
      "5                             Sprinter           Dave, Central Cee   \n",
      "6                      Ella Baila Sola  Eslabon Armado, Peso Pluma   \n",
      "7                             Columbia                     Quevedo   \n",
      "8                             fukumean                       Gunna   \n",
      "9                      La Bebe - Remix       Peso Pluma, Yng Lvcas   \n",
      "\n",
      "   artist_count  released_year  released_month  released_day  \\\n",
      "0             2           2023               7            14   \n",
      "1             1           2023               3            23   \n",
      "2             1           2023               6            30   \n",
      "3             1           2019               8            23   \n",
      "4             1           2023               5            18   \n",
      "5             2           2023               6             1   \n",
      "6             2           2023               3            16   \n",
      "7             1           2023               7             7   \n",
      "8             1           2023               5            15   \n",
      "9             2           2023               3            17   \n",
      "\n",
      "   in_spotify_playlists  in_spotify_charts    streams  in_apple_playlists  \\\n",
      "0                   553                147  141381703                  43   \n",
      "1                  1474                 48  133716286                  48   \n",
      "2                  1397                113  140003974                  94   \n",
      "3                  7858                100  800840817                 116   \n",
      "4                  3133                 50  303236322                  84   \n",
      "5                  2186                 91  183706234                  67   \n",
      "6                  3090                 50  725980112                  34   \n",
      "7                   714                 43   58149378                  25   \n",
      "8                  1096                 83   95217315                  60   \n",
      "9                  2953                 44  553634067                  49   \n",
      "\n",
      "   ...  bpm key   mode danceability_%  valence_% energy_% acousticness_%  \\\n",
      "0  ...  125   B  Major             80         89       83             31   \n",
      "1  ...   92  C#  Major             71         61       74              7   \n",
      "2  ...  138   F  Major             51         32       53             17   \n",
      "3  ...  170   A  Major             55         58       72             11   \n",
      "4  ...  144   A  Minor             65         23       80             14   \n",
      "5  ...  141  C#  Major             92         66       58             19   \n",
      "6  ...  148   F  Minor             67         83       76             48   \n",
      "7  ...  100   F  Major             67         26       71             37   \n",
      "8  ...  130  C#  Minor             85         22       62             12   \n",
      "9  ...  170   D  Minor             81         56       48             21   \n",
      "\n",
      "   instrumentalness_%  liveness_%  speechiness_%  \n",
      "0                   0           8              4  \n",
      "1                   0          10              4  \n",
      "2                   0          31              6  \n",
      "3                   0          11             15  \n",
      "4                  63          11              6  \n",
      "5                   0           8             24  \n",
      "6                   0           8              3  \n",
      "7                   0          11              4  \n",
      "8                   0          28              9  \n",
      "9                   0           8             33  \n",
      "\n",
      "[10 rows x 24 columns]\n",
      "\n",
      "Información del DataFrame 'canciones':\n",
      "\\Estadisticas de la región seleccionada... USA\n",
      "       artist_count  released_year  released_month  released_day  \\\n",
      "count           0.0            0.0             0.0           0.0   \n",
      "mean            NaN            NaN             NaN           NaN   \n",
      "std             NaN            NaN             NaN           NaN   \n",
      "min             NaN            NaN             NaN           NaN   \n",
      "25%             NaN            NaN             NaN           NaN   \n",
      "50%             NaN            NaN             NaN           NaN   \n",
      "75%             NaN            NaN             NaN           NaN   \n",
      "max             NaN            NaN             NaN           NaN   \n",
      "\n",
      "       in_spotify_playlists  in_spotify_charts  in_apple_playlists  \\\n",
      "count                   0.0                0.0                 0.0   \n",
      "mean                    NaN                NaN                 NaN   \n",
      "std                     NaN                NaN                 NaN   \n",
      "min                     NaN                NaN                 NaN   \n",
      "25%                     NaN                NaN                 NaN   \n",
      "50%                     NaN                NaN                 NaN   \n",
      "75%                     NaN                NaN                 NaN   \n",
      "max                     NaN                NaN                 NaN   \n",
      "\n",
      "       in_apple_charts  in_deezer_charts  bpm  danceability_%  valence_%  \\\n",
      "count              0.0               0.0  0.0             0.0        0.0   \n",
      "mean               NaN               NaN  NaN             NaN        NaN   \n",
      "std                NaN               NaN  NaN             NaN        NaN   \n",
      "min                NaN               NaN  NaN             NaN        NaN   \n",
      "25%                NaN               NaN  NaN             NaN        NaN   \n",
      "50%                NaN               NaN  NaN             NaN        NaN   \n",
      "75%                NaN               NaN  NaN             NaN        NaN   \n",
      "max                NaN               NaN  NaN             NaN        NaN   \n",
      "\n",
      "       energy_%  acousticness_%  instrumentalness_%  liveness_%  speechiness_%  \n",
      "count       0.0             0.0                 0.0         0.0            0.0  \n",
      "mean        NaN             NaN                 NaN         NaN            NaN  \n",
      "std         NaN             NaN                 NaN         NaN            NaN  \n",
      "min         NaN             NaN                 NaN         NaN            NaN  \n",
      "25%         NaN             NaN                 NaN         NaN            NaN  \n",
      "50%         NaN             NaN                 NaN         NaN            NaN  \n",
      "75%         NaN             NaN                 NaN         NaN            NaN  \n",
      "max         NaN             NaN                 NaN         NaN            NaN  \n"
     ]
    }
   ],
   "source": [
    "import pandas as pd\n",
    "\n",
    "\n",
    "canciones = pd.read_csv('spotify-2023.csv',encoding='latin-1')\n",
    "\n",
    "print(\"Primeras 10 filas del DataFrame 'canciones':\")\n",
    "print(canciones.head(10))\n",
    "\n",
    "print(\"\\nInformación del DataFrame 'canciones':\")\n",
    "\n",
    "pais_interes = 'USA'\n",
    "canciones_pais_interes = canciones[canciones['artist(s)_name'] == pais_interes]\n",
    "\n",
    "\n",
    "print(\"\\Estadisticas de la región seleccionada...\", pais_interes)\n",
    "print(canciones_pais_interes.describe())\n",
    "\n",
    "\n",
    "\n"
   ]
  },
  {
   "cell_type": "code",
   "execution_count": 13,
   "metadata": {},
   "outputs": [
    {
     "data": {
      "text/plain": [
       "Index(['track_name', 'artist(s)_name', 'artist_count', 'released_year',\n",
       "       'released_month', 'released_day', 'in_spotify_playlists',\n",
       "       'in_spotify_charts', 'streams', 'in_apple_playlists', 'in_apple_charts',\n",
       "       'in_deezer_playlists', 'in_deezer_charts', 'in_shazam_charts', 'bpm',\n",
       "       'key', 'mode', 'danceability_%', 'valence_%', 'energy_%',\n",
       "       'acousticness_%', 'instrumentalness_%', 'liveness_%', 'speechiness_%'],\n",
       "      dtype='object')"
      ]
     },
     "execution_count": 13,
     "metadata": {},
     "output_type": "execute_result"
    }
   ],
   "source": [
    "canciones.columns"
   ]
  },
  {
   "cell_type": "code",
   "execution_count": 14,
   "metadata": {},
   "outputs": [
    {
     "name": "stdout",
     "output_type": "stream",
     "text": [
      "<class 'pandas.core.frame.DataFrame'>\n",
      "RangeIndex: 953 entries, 0 to 952\n",
      "Data columns (total 24 columns):\n",
      " #   Column                Non-Null Count  Dtype \n",
      "---  ------                --------------  ----- \n",
      " 0   track_name            953 non-null    object\n",
      " 1   artist(s)_name        953 non-null    object\n",
      " 2   artist_count          953 non-null    int64 \n",
      " 3   released_year         953 non-null    int64 \n",
      " 4   released_month        953 non-null    int64 \n",
      " 5   released_day          953 non-null    int64 \n",
      " 6   in_spotify_playlists  953 non-null    int64 \n",
      " 7   in_spotify_charts     953 non-null    int64 \n",
      " 8   streams               953 non-null    object\n",
      " 9   in_apple_playlists    953 non-null    int64 \n",
      " 10  in_apple_charts       953 non-null    int64 \n",
      " 11  in_deezer_playlists   953 non-null    object\n",
      " 12  in_deezer_charts      953 non-null    int64 \n",
      " 13  in_shazam_charts      903 non-null    object\n",
      " 14  bpm                   953 non-null    int64 \n",
      " 15  key                   858 non-null    object\n",
      " 16  mode                  953 non-null    object\n",
      " 17  danceability_%        953 non-null    int64 \n",
      " 18  valence_%             953 non-null    int64 \n",
      " 19  energy_%              953 non-null    int64 \n",
      " 20  acousticness_%        953 non-null    int64 \n",
      " 21  instrumentalness_%    953 non-null    int64 \n",
      " 22  liveness_%            953 non-null    int64 \n",
      " 23  speechiness_%         953 non-null    int64 \n",
      "dtypes: int64(17), object(7)\n",
      "memory usage: 178.8+ KB\n"
     ]
    }
   ],
   "source": [
    "canciones.info()"
   ]
  }
 ],
 "metadata": {
  "kernelspec": {
   "display_name": "Python 3",
   "language": "python",
   "name": "python3"
  },
  "language_info": {
   "codemirror_mode": {
    "name": "ipython",
    "version": 3
   },
   "file_extension": ".py",
   "mimetype": "text/x-python",
   "name": "python",
   "nbconvert_exporter": "python",
   "pygments_lexer": "ipython3",
   "version": "3.11.8"
  }
 },
 "nbformat": 4,
 "nbformat_minor": 2
}
