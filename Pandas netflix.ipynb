{
 "cells": [
  {
   "cell_type": "markdown",
   "metadata": {},
   "source": [
    "## NETFLIX"
   ]
  },
  {
   "cell_type": "code",
   "execution_count": 2,
   "metadata": {},
   "outputs": [],
   "source": [
    "import pandas as pd\n",
    "df = pd.read_csv('netflix_titles.csv')"
   ]
  },
  {
   "cell_type": "code",
   "execution_count": 3,
   "metadata": {},
   "outputs": [
    {
     "name": "stdout",
     "output_type": "stream",
     "text": [
      "<class 'pandas.core.frame.DataFrame'>\n",
      "RangeIndex: 8807 entries, 0 to 8806\n",
      "Data columns (total 12 columns):\n",
      " #   Column        Non-Null Count  Dtype \n",
      "---  ------        --------------  ----- \n",
      " 0   show_id       8807 non-null   object\n",
      " 1   type          8807 non-null   object\n",
      " 2   title         8807 non-null   object\n",
      " 3   director      6173 non-null   object\n",
      " 4   cast          7982 non-null   object\n",
      " 5   country       7976 non-null   object\n",
      " 6   date_added    8797 non-null   object\n",
      " 7   release_year  8807 non-null   int64 \n",
      " 8   rating        8803 non-null   object\n",
      " 9   duration      8804 non-null   object\n",
      " 10  listed_in     8807 non-null   object\n",
      " 11  description   8807 non-null   object\n",
      "dtypes: int64(1), object(11)\n",
      "memory usage: 825.8+ KB\n"
     ]
    }
   ],
   "source": [
    "df.info()"
   ]
  },
  {
   "cell_type": "code",
   "execution_count": 4,
   "metadata": {},
   "outputs": [
    {
     "data": {
      "text/plain": [
       "show_id            0\n",
       "type               0\n",
       "title              0\n",
       "director        2634\n",
       "cast             825\n",
       "country          831\n",
       "date_added        10\n",
       "release_year       0\n",
       "rating             4\n",
       "duration           3\n",
       "listed_in          0\n",
       "description        0\n",
       "dtype: int64"
      ]
     },
     "execution_count": 4,
     "metadata": {},
     "output_type": "execute_result"
    }
   ],
   "source": [
    "df.isnull().sum()"
   ]
  },
  {
   "cell_type": "code",
   "execution_count": 11,
   "metadata": {},
   "outputs": [
    {
     "name": "stdout",
     "output_type": "stream",
     "text": [
      "DataFrame de Películas:\n",
      "   show_id   type                             title  \\\n",
      "0       s1  Movie              Dick Johnson Is Dead   \n",
      "6       s7  Movie  My Little Pony: A New Generation   \n",
      "7       s8  Movie                           Sankofa   \n",
      "9      s10  Movie                      The Starling   \n",
      "12     s13  Movie                      Je Suis Karl   \n",
      "\n",
      "                         director  \\\n",
      "0                 Kirsten Johnson   \n",
      "6   Robert Cullen, José Luis Ucha   \n",
      "7                    Haile Gerima   \n",
      "9                  Theodore Melfi   \n",
      "12            Christian Schwochow   \n",
      "\n",
      "                                                 cast  \\\n",
      "0                                                 NaN   \n",
      "6   Vanessa Hudgens, Kimiko Glenn, James Marsden, ...   \n",
      "7   Kofi Ghanaba, Oyafunmike Ogunlano, Alexandra D...   \n",
      "9   Melissa McCarthy, Chris O'Dowd, Kevin Kline, T...   \n",
      "12  Luna Wedler, Jannis Niewöhner, Milan Peschel, ...   \n",
      "\n",
      "                                              country          date_added  \\\n",
      "0                                       United States  September 25, 2021   \n",
      "6                                                 NaN  September 24, 2021   \n",
      "7   United States, Ghana, Burkina Faso, United Kin...  September 24, 2021   \n",
      "9                                       United States  September 24, 2021   \n",
      "12                            Germany, Czech Republic  September 23, 2021   \n",
      "\n",
      "    release_year rating duration  \\\n",
      "0           2020  PG-13   90 min   \n",
      "6           2021     PG   91 min   \n",
      "7           1993  TV-MA  125 min   \n",
      "9           2021  PG-13  104 min   \n",
      "12          2021  TV-MA  127 min   \n",
      "\n",
      "                                           listed_in  \\\n",
      "0                                      Documentaries   \n",
      "6                           Children & Family Movies   \n",
      "7   Dramas, Independent Movies, International Movies   \n",
      "9                                   Comedies, Dramas   \n",
      "12                      Dramas, International Movies   \n",
      "\n",
      "                                          description  \n",
      "0   As her father nears the end of his life, filmm...  \n",
      "6   Equestria's divided. But a bright-eyed hero be...  \n",
      "7   On a photo shoot in Ghana, an American model s...  \n",
      "9   A woman adjusting to life after a loss contend...  \n",
      "12  After most of her family is murdered in a terr...  \n",
      "\n",
      "DataFrame de Series:\n",
      "  show_id     type                  title         director  \\\n",
      "1      s2  TV Show          Blood & Water              NaN   \n",
      "2      s3  TV Show              Ganglands  Julien Leclercq   \n",
      "3      s4  TV Show  Jailbirds New Orleans              NaN   \n",
      "4      s5  TV Show           Kota Factory              NaN   \n",
      "5      s6  TV Show          Midnight Mass    Mike Flanagan   \n",
      "\n",
      "                                                cast       country  \\\n",
      "1  Ama Qamata, Khosi Ngema, Gail Mabalane, Thaban...  South Africa   \n",
      "2  Sami Bouajila, Tracy Gotoas, Samuel Jouy, Nabi...           NaN   \n",
      "3                                                NaN           NaN   \n",
      "4  Mayur More, Jitendra Kumar, Ranjan Raj, Alam K...         India   \n",
      "5  Kate Siegel, Zach Gilford, Hamish Linklater, H...           NaN   \n",
      "\n",
      "           date_added  release_year rating   duration  \\\n",
      "1  September 24, 2021          2021  TV-MA  2 Seasons   \n",
      "2  September 24, 2021          2021  TV-MA   1 Season   \n",
      "3  September 24, 2021          2021  TV-MA   1 Season   \n",
      "4  September 24, 2021          2021  TV-MA  2 Seasons   \n",
      "5  September 24, 2021          2021  TV-MA   1 Season   \n",
      "\n",
      "                                           listed_in  \\\n",
      "1    International TV Shows, TV Dramas, TV Mysteries   \n",
      "2  Crime TV Shows, International TV Shows, TV Act...   \n",
      "3                             Docuseries, Reality TV   \n",
      "4  International TV Shows, Romantic TV Shows, TV ...   \n",
      "5                 TV Dramas, TV Horror, TV Mysteries   \n",
      "\n",
      "                                         description  \n",
      "1  After crossing paths at a party, a Cape Town t...  \n",
      "2  To protect his family from a powerful drug lor...  \n",
      "3  Feuds, flirtations and toilet talk go down amo...  \n",
      "4  In a city of coaching centers known to train I...  \n",
      "5  The arrival of a charismatic young priest brin...  \n"
     ]
    }
   ],
   "source": [
    "df_peliculas = df.loc[df['type'] == 'Movie']\n",
    "df_series = df.loc[df['type'] == 'TV Show']\n",
    "\n",
    "print(\"DataFrame de Películas:\")\n",
    "print(df_peliculas.head())\n",
    "\n",
    "print(\"\\nDataFrame de Series:\")\n",
    "print(df_series.head())"
   ]
  },
  {
   "cell_type": "code",
   "execution_count": 18,
   "metadata": {},
   "outputs": [
    {
     "name": "stdout",
     "output_type": "stream",
     "text": [
      "     show_id     type                  title         director  \\\n",
      "0         s1    Movie   Dick Johnson Is Dead  Kirsten Johnson   \n",
      "1         s2  TV Show          Blood & Water              NaN   \n",
      "2         s3  TV Show              Ganglands  Julien Leclercq   \n",
      "3         s4  TV Show  Jailbirds New Orleans              NaN   \n",
      "4         s5  TV Show           Kota Factory              NaN   \n",
      "...      ...      ...                    ...              ...   \n",
      "8802   s8803    Movie                 Zodiac    David Fincher   \n",
      "8803   s8804  TV Show            Zombie Dumb              NaN   \n",
      "8804   s8805    Movie             Zombieland  Ruben Fleischer   \n",
      "8805   s8806    Movie                   Zoom     Peter Hewitt   \n",
      "8806   s8807    Movie                 Zubaan      Mozez Singh   \n",
      "\n",
      "                                                   cast        country  \\\n",
      "0                                                   NaN  United States   \n",
      "1     Ama Qamata, Khosi Ngema, Gail Mabalane, Thaban...   South Africa   \n",
      "2     Sami Bouajila, Tracy Gotoas, Samuel Jouy, Nabi...            NaN   \n",
      "3                                                   NaN            NaN   \n",
      "4     Mayur More, Jitendra Kumar, Ranjan Raj, Alam K...          India   \n",
      "...                                                 ...            ...   \n",
      "8802  Mark Ruffalo, Jake Gyllenhaal, Robert Downey J...  United States   \n",
      "8803                                                NaN            NaN   \n",
      "8804  Jesse Eisenberg, Woody Harrelson, Emma Stone, ...  United States   \n",
      "8805  Tim Allen, Courteney Cox, Chevy Chase, Kate Ma...  United States   \n",
      "8806  Vicky Kaushal, Sarah-Jane Dias, Raaghav Chanan...          India   \n",
      "\n",
      "     date_added  release_year rating   duration  \\\n",
      "0    2021-09-25          2020  PG-13     90 min   \n",
      "1    2021-09-24          2021  TV-MA  2 Seasons   \n",
      "2    2021-09-24          2021  TV-MA   1 Season   \n",
      "3    2021-09-24          2021  TV-MA   1 Season   \n",
      "4    2021-09-24          2021  TV-MA  2 Seasons   \n",
      "...         ...           ...    ...        ...   \n",
      "8802 2019-11-20          2007      R    158 min   \n",
      "8803 2019-07-01          2018  TV-Y7  2 Seasons   \n",
      "8804 2019-11-01          2009      R     88 min   \n",
      "8805 2020-01-11          2006     PG     88 min   \n",
      "8806 2019-03-02          2015  TV-14    111 min   \n",
      "\n",
      "                                              listed_in  \\\n",
      "0                                         Documentaries   \n",
      "1       International TV Shows, TV Dramas, TV Mysteries   \n",
      "2     Crime TV Shows, International TV Shows, TV Act...   \n",
      "3                                Docuseries, Reality TV   \n",
      "4     International TV Shows, Romantic TV Shows, TV ...   \n",
      "...                                                 ...   \n",
      "8802                     Cult Movies, Dramas, Thrillers   \n",
      "8803             Kids' TV, Korean TV Shows, TV Comedies   \n",
      "8804                            Comedies, Horror Movies   \n",
      "8805                 Children & Family Movies, Comedies   \n",
      "8806     Dramas, International Movies, Music & Musicals   \n",
      "\n",
      "                                            description  \n",
      "0     As her father nears the end of his life, filmm...  \n",
      "1     After crossing paths at a party, a Cape Town t...  \n",
      "2     To protect his family from a powerful drug lor...  \n",
      "3     Feuds, flirtations and toilet talk go down amo...  \n",
      "4     In a city of coaching centers known to train I...  \n",
      "...                                                 ...  \n",
      "8802  A political cartoonist, a crime reporter and a...  \n",
      "8803  While living alone in a spooky town, a young g...  \n",
      "8804  Looking to survive in a world taken over by zo...  \n",
      "8805  Dragged from civilian life, a former superhero...  \n",
      "8806  A scrappy but poor boy worms his way into a ty...  \n",
      "\n",
      "[8807 rows x 12 columns]\n"
     ]
    }
   ],
   "source": [
    "# Convertir los valores de la columna 'date_added' a string\n",
    "df['date_added'] = df['date_added'].astype(str)\n",
    "\n",
    "# Eliminar espacios adicionales al principio y al final de los valores en la columna 'date_added'\n",
    "df['date_added'] = df['date_added'].str.strip()\n",
    "\n",
    "# Convertir las fechas a datetime\n",
    "df['date_added'] = pd.to_datetime(df['date_added'], errors='coerce')\n",
    "\n",
    "print(df)\n"
   ]
  },
  {
   "cell_type": "code",
   "execution_count": 25,
   "metadata": {},
   "outputs": [
    {
     "name": "stdout",
     "output_type": "stream",
     "text": [
      "Filmografía de Tom Hanks por año:\n",
      "2004 : ['Catch Me If You Can', 'Angels & Demons', 'The Da Vinci Code', 'Cloud Atlas', \"Defying the Nazis: The Sharps' War\", 'Philadelphia', 'Saving Mr. Banks', 'The Polar Express']\n"
     ]
    }
   ],
   "source": [
    "def filmografia_por_actor(dataframe, nombre_actor):\n",
    "\n",
    "\n",
    "    peliculas_actor = dataframe.dropna(subset=['cast'])\n",
    "    \n",
    "\n",
    "    peliculas_actor = peliculas_actor[peliculas_actor['cast'].str.contains(nombre_actor, case=False)]\n",
    "\n",
    "    filmografia = {}\n",
    "    \n",
    "    for index, row in peliculas_actor.iterrows():\n",
    "\n",
    "        titulo = row['title']\n",
    "        \n",
    "\n",
    "        if year in filmografia:\n",
    "            filmografia[year].append(titulo)\n",
    "        else:\n",
    "            filmografia[year] = [titulo]\n",
    "    \n",
    "    return filmografia\n",
    "\n",
    "\n",
    "nombre_actor = \"Tom Hanks\"\n",
    "filmografia_tom_hanks = filmografia_por_actor(df, nombre_actor)\n",
    "print(\"Filmografía de\", nombre_actor, \"por año:\")\n",
    "for year, peliculas in filmografia_tom_hanks.items():\n",
    "    print(year, \":\", peliculas)\n"
   ]
  },
  {
   "cell_type": "code",
   "execution_count": 26,
   "metadata": {},
   "outputs": [
    {
     "name": "stdout",
     "output_type": "stream",
     "text": [
      "Filmografía de Tom Hanks por año:\n",
      "2004 : ['Catch Me If You Can', 'Angels & Demons', 'The Da Vinci Code', 'Cloud Atlas', \"Defying the Nazis: The Sharps' War\", 'Philadelphia', 'Saving Mr. Banks', 'The Polar Express']\n"
     ]
    }
   ],
   "source": [
    "nombre_actor = \"Tom Hanks\"\n",
    "filmografia_tom_hanks = filmografia_por_actor(df, nombre_actor)\n",
    "print(\"Filmografía de\", nombre_actor, \"por año:\")\n",
    "for year, peliculas in filmografia_tom_hanks.items():\n",
    "    print(year, \":\", peliculas)\n"
   ]
  }
 ],
 "metadata": {
  "kernelspec": {
   "display_name": "Python 3",
   "language": "python",
   "name": "python3"
  },
  "language_info": {
   "codemirror_mode": {
    "name": "ipython",
    "version": 3
   },
   "file_extension": ".py",
   "mimetype": "text/x-python",
   "name": "python",
   "nbconvert_exporter": "python",
   "pygments_lexer": "ipython3",
   "version": "3.11.8"
  }
 },
 "nbformat": 4,
 "nbformat_minor": 2
}
